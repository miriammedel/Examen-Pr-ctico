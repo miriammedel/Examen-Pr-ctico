{
  "cells": [
    {
      "cell_type": "markdown",
      "metadata": {
        "id": "view-in-github",
        "colab_type": "text"
      },
      "source": [
        "<a href=\"https://colab.research.google.com/github/miriammedel/Examen-Pr-ctico/blob/master/iris_neural_net.ipynb\" target=\"_parent\"><img src=\"https://colab.research.google.com/assets/colab-badge.svg\" alt=\"Open In Colab\"/></a>"
      ]
    },
    {
      "cell_type": "markdown",
      "source": [
        "## **Los cambios realizados en la arquitectura y los parámetros son:**\n",
        "\n",
        "*   Se agregaron más neuronas a la primera capa densa (16 en lugar de 10) y se agregó una capa densa adicional (8 neuronas).\n",
        "*   La función de activación de la primera capa densa se cambió de 'sigmoid' a 'relu'.\n",
        "* La función de activación de la capa de salida se cambió de 'sigmoid' a 'softmax'.\n",
        "*El tamaño del batch se redujo a 10 (anteriormente era 50).\n",
        "\n",
        "\n",
        "En general, estos cambios permiten que la red neuronal tenga una mayor capacidad para aprender patrones en los datos de entrada. Además, la función de activación 'softmax' en la capa de salida es más adecuada para problemas de clasificación multiclase, ya que produce una distribución de probabilidad sobre las diferentes clases de salida. Al reducir el tamaño del batch, se puede mejorar el proceso de optimización al actualizar los pesos con más frecuencia y, por lo tanto, mejorar el aprendizaje de la red."
      ],
      "metadata": {
        "id": "fX6upgOszSB2"
      },
      "id": "fX6upgOszSB2"
    },
    {
      "cell_type": "code",
      "execution_count": null,
      "id": "282c342e-aa2c-4112-a80c-adaffb9d3583",
      "metadata": {
        "id": "282c342e-aa2c-4112-a80c-adaffb9d3583"
      },
      "outputs": [],
      "source": [
        "import tensorflow as tf\n",
        "from tensorflow.keras import layers\n",
        "import pandas as pd\n",
        "import numpy as np\n",
        "from tensorflow.keras import datasets, layers, models\n",
        "from tensorflow.keras.utils import to_categorical"
      ]
    },
    {
      "cell_type": "code",
      "execution_count": null,
      "id": "04d35529-b765-423e-9e95-107d2918c876",
      "metadata": {
        "colab": {
          "base_uri": "https://localhost:8080/"
        },
        "id": "04d35529-b765-423e-9e95-107d2918c876",
        "outputId": "c689054b-d838-4da9-d0e0-52bf32e8745b"
      },
      "outputs": [
        {
          "output_type": "stream",
          "name": "stdout",
          "text": [
            "<_io.TextIOWrapper name='iris.csv' mode='r' encoding='UTF-8'>\n"
          ]
        }
      ],
      "source": [
        "dataFile = open(\"iris.csv\")\n",
        "print(dataFile)"
      ]
    },
    {
      "cell_type": "code",
      "execution_count": null,
      "id": "766c885b-bc52-41cc-98b3-825880412934",
      "metadata": {
        "colab": {
          "base_uri": "https://localhost:8080/",
          "height": 206
        },
        "id": "766c885b-bc52-41cc-98b3-825880412934",
        "outputId": "c2631d61-faa7-436e-b886-639a49cfd304"
      },
      "outputs": [
        {
          "output_type": "execute_result",
          "data": {
            "text/plain": [
              "   5.1  3.5  1.4  0.2  Iris-setosa\n",
              "0  4.9  3.0  1.4  0.2  Iris-setosa\n",
              "1  4.7  3.2  1.3  0.2  Iris-setosa\n",
              "2  4.6  3.1  1.5  0.2  Iris-setosa\n",
              "3  5.0  3.6  1.4  0.2  Iris-setosa\n",
              "4  5.4  3.9  1.7  0.4  Iris-setosa"
            ],
            "text/html": [
              "\n",
              "  <div id=\"df-cbdc0bb3-e83f-40c4-aea4-76046ab5c438\">\n",
              "    <div class=\"colab-df-container\">\n",
              "      <div>\n",
              "<style scoped>\n",
              "    .dataframe tbody tr th:only-of-type {\n",
              "        vertical-align: middle;\n",
              "    }\n",
              "\n",
              "    .dataframe tbody tr th {\n",
              "        vertical-align: top;\n",
              "    }\n",
              "\n",
              "    .dataframe thead th {\n",
              "        text-align: right;\n",
              "    }\n",
              "</style>\n",
              "<table border=\"1\" class=\"dataframe\">\n",
              "  <thead>\n",
              "    <tr style=\"text-align: right;\">\n",
              "      <th></th>\n",
              "      <th>5.1</th>\n",
              "      <th>3.5</th>\n",
              "      <th>1.4</th>\n",
              "      <th>0.2</th>\n",
              "      <th>Iris-setosa</th>\n",
              "    </tr>\n",
              "  </thead>\n",
              "  <tbody>\n",
              "    <tr>\n",
              "      <th>0</th>\n",
              "      <td>4.9</td>\n",
              "      <td>3.0</td>\n",
              "      <td>1.4</td>\n",
              "      <td>0.2</td>\n",
              "      <td>Iris-setosa</td>\n",
              "    </tr>\n",
              "    <tr>\n",
              "      <th>1</th>\n",
              "      <td>4.7</td>\n",
              "      <td>3.2</td>\n",
              "      <td>1.3</td>\n",
              "      <td>0.2</td>\n",
              "      <td>Iris-setosa</td>\n",
              "    </tr>\n",
              "    <tr>\n",
              "      <th>2</th>\n",
              "      <td>4.6</td>\n",
              "      <td>3.1</td>\n",
              "      <td>1.5</td>\n",
              "      <td>0.2</td>\n",
              "      <td>Iris-setosa</td>\n",
              "    </tr>\n",
              "    <tr>\n",
              "      <th>3</th>\n",
              "      <td>5.0</td>\n",
              "      <td>3.6</td>\n",
              "      <td>1.4</td>\n",
              "      <td>0.2</td>\n",
              "      <td>Iris-setosa</td>\n",
              "    </tr>\n",
              "    <tr>\n",
              "      <th>4</th>\n",
              "      <td>5.4</td>\n",
              "      <td>3.9</td>\n",
              "      <td>1.7</td>\n",
              "      <td>0.4</td>\n",
              "      <td>Iris-setosa</td>\n",
              "    </tr>\n",
              "  </tbody>\n",
              "</table>\n",
              "</div>\n",
              "      <button class=\"colab-df-convert\" onclick=\"convertToInteractive('df-cbdc0bb3-e83f-40c4-aea4-76046ab5c438')\"\n",
              "              title=\"Convert this dataframe to an interactive table.\"\n",
              "              style=\"display:none;\">\n",
              "        \n",
              "  <svg xmlns=\"http://www.w3.org/2000/svg\" height=\"24px\"viewBox=\"0 0 24 24\"\n",
              "       width=\"24px\">\n",
              "    <path d=\"M0 0h24v24H0V0z\" fill=\"none\"/>\n",
              "    <path d=\"M18.56 5.44l.94 2.06.94-2.06 2.06-.94-2.06-.94-.94-2.06-.94 2.06-2.06.94zm-11 1L8.5 8.5l.94-2.06 2.06-.94-2.06-.94L8.5 2.5l-.94 2.06-2.06.94zm10 10l.94 2.06.94-2.06 2.06-.94-2.06-.94-.94-2.06-.94 2.06-2.06.94z\"/><path d=\"M17.41 7.96l-1.37-1.37c-.4-.4-.92-.59-1.43-.59-.52 0-1.04.2-1.43.59L10.3 9.45l-7.72 7.72c-.78.78-.78 2.05 0 2.83L4 21.41c.39.39.9.59 1.41.59.51 0 1.02-.2 1.41-.59l7.78-7.78 2.81-2.81c.8-.78.8-2.07 0-2.86zM5.41 20L4 18.59l7.72-7.72 1.47 1.35L5.41 20z\"/>\n",
              "  </svg>\n",
              "      </button>\n",
              "      \n",
              "  <style>\n",
              "    .colab-df-container {\n",
              "      display:flex;\n",
              "      flex-wrap:wrap;\n",
              "      gap: 12px;\n",
              "    }\n",
              "\n",
              "    .colab-df-convert {\n",
              "      background-color: #E8F0FE;\n",
              "      border: none;\n",
              "      border-radius: 50%;\n",
              "      cursor: pointer;\n",
              "      display: none;\n",
              "      fill: #1967D2;\n",
              "      height: 32px;\n",
              "      padding: 0 0 0 0;\n",
              "      width: 32px;\n",
              "    }\n",
              "\n",
              "    .colab-df-convert:hover {\n",
              "      background-color: #E2EBFA;\n",
              "      box-shadow: 0px 1px 2px rgba(60, 64, 67, 0.3), 0px 1px 3px 1px rgba(60, 64, 67, 0.15);\n",
              "      fill: #174EA6;\n",
              "    }\n",
              "\n",
              "    [theme=dark] .colab-df-convert {\n",
              "      background-color: #3B4455;\n",
              "      fill: #D2E3FC;\n",
              "    }\n",
              "\n",
              "    [theme=dark] .colab-df-convert:hover {\n",
              "      background-color: #434B5C;\n",
              "      box-shadow: 0px 1px 3px 1px rgba(0, 0, 0, 0.15);\n",
              "      filter: drop-shadow(0px 1px 2px rgba(0, 0, 0, 0.3));\n",
              "      fill: #FFFFFF;\n",
              "    }\n",
              "  </style>\n",
              "\n",
              "      <script>\n",
              "        const buttonEl =\n",
              "          document.querySelector('#df-cbdc0bb3-e83f-40c4-aea4-76046ab5c438 button.colab-df-convert');\n",
              "        buttonEl.style.display =\n",
              "          google.colab.kernel.accessAllowed ? 'block' : 'none';\n",
              "\n",
              "        async function convertToInteractive(key) {\n",
              "          const element = document.querySelector('#df-cbdc0bb3-e83f-40c4-aea4-76046ab5c438');\n",
              "          const dataTable =\n",
              "            await google.colab.kernel.invokeFunction('convertToInteractive',\n",
              "                                                     [key], {});\n",
              "          if (!dataTable) return;\n",
              "\n",
              "          const docLinkHtml = 'Like what you see? Visit the ' +\n",
              "            '<a target=\"_blank\" href=https://colab.research.google.com/notebooks/data_table.ipynb>data table notebook</a>'\n",
              "            + ' to learn more about interactive tables.';\n",
              "          element.innerHTML = '';\n",
              "          dataTable['output_type'] = 'display_data';\n",
              "          await google.colab.output.renderOutput(dataTable, element);\n",
              "          const docLink = document.createElement('div');\n",
              "          docLink.innerHTML = docLinkHtml;\n",
              "          element.appendChild(docLink);\n",
              "        }\n",
              "      </script>\n",
              "    </div>\n",
              "  </div>\n",
              "  "
            ]
          },
          "metadata": {},
          "execution_count": 8
        }
      ],
      "source": [
        "df = pd.read_csv(dataFile)\n",
        "df.head()"
      ]
    },
    {
      "cell_type": "code",
      "execution_count": null,
      "id": "571f6981-d434-496e-8373-e6341a3494bf",
      "metadata": {
        "id": "571f6981-d434-496e-8373-e6341a3494bf"
      },
      "outputs": [],
      "source": [
        "X = df.iloc[:,0:4].values\n",
        "y = df.iloc[:,4].values"
      ]
    },
    {
      "cell_type": "code",
      "execution_count": null,
      "id": "7bf3bd55-af55-4804-a482-39b21c52d2e4",
      "metadata": {
        "colab": {
          "base_uri": "https://localhost:8080/"
        },
        "id": "7bf3bd55-af55-4804-a482-39b21c52d2e4",
        "outputId": "d0fbdda6-6d94-4c43-9de4-0d21b9fbeec0"
      },
      "outputs": [
        {
          "output_type": "stream",
          "name": "stdout",
          "text": [
            "[[4.9 3.  1.4 0.2]\n",
            " [4.7 3.2 1.3 0.2]\n",
            " [4.6 3.1 1.5 0.2]\n",
            " [5.  3.6 1.4 0.2]\n",
            " [5.4 3.9 1.7 0.4]]\n",
            "['Iris-setosa' 'Iris-setosa' 'Iris-setosa' 'Iris-setosa' 'Iris-setosa']\n"
          ]
        }
      ],
      "source": [
        "print(X[0:5])\n",
        "print(y[0:5])"
      ]
    },
    {
      "cell_type": "code",
      "execution_count": null,
      "id": "4a7aad3c-dadf-4765-97eb-1ba33432c948",
      "metadata": {
        "colab": {
          "base_uri": "https://localhost:8080/"
        },
        "id": "4a7aad3c-dadf-4765-97eb-1ba33432c948",
        "outputId": "3e9d2db3-55e1-4029-d1f1-2cda80b9af97"
      },
      "outputs": [
        {
          "output_type": "stream",
          "name": "stdout",
          "text": [
            "(149, 4)\n",
            "(149,)\n"
          ]
        }
      ],
      "source": [
        "print(X.shape)\n",
        "print(y.shape)"
      ]
    },
    {
      "cell_type": "code",
      "execution_count": null,
      "id": "b9822e73-0f78-4c8a-9edc-0a734c3ec645",
      "metadata": {
        "id": "b9822e73-0f78-4c8a-9edc-0a734c3ec645"
      },
      "outputs": [],
      "source": [
        "from sklearn.preprocessing import LabelEncoder\n",
        "encoder =  LabelEncoder()\n",
        "y1 = encoder.fit_transform(y)"
      ]
    },
    {
      "cell_type": "code",
      "execution_count": null,
      "id": "097626a9-add3-450e-8e06-33cbf6be8aa5",
      "metadata": {
        "colab": {
          "base_uri": "https://localhost:8080/"
        },
        "id": "097626a9-add3-450e-8e06-33cbf6be8aa5",
        "outputId": "8aeda8db-d2de-4ede-b058-edc20f542767"
      },
      "outputs": [
        {
          "output_type": "stream",
          "name": "stdout",
          "text": [
            "[0 0 0 0 0 0 0 0 0 0 0 0 0 0 0 0 0 0 0 0 0 0 0 0 0 0 0 0 0 0 0 0 0 0 0 0 0\n",
            " 0 0 0 0 0 0 0 0 0 0 0 0 1 1 1 1 1 1 1 1 1 1 1 1 1 1 1 1 1 1 1 1 1 1 1 1 1\n",
            " 1 1 1 1 1 1 1 1 1 1 1 1 1 1 1 1 1 1 1 1 1 1 1 1 1 2 2 2 2 2 2 2 2 2 2 2 2\n",
            " 2 2 2 2 2 2 2 2 2 2 2 2 2 2 2 2 2 2 2 2 2 2 2 2 2 2 2 2 2 2 2 2 2 2 2 2 2\n",
            " 2]\n"
          ]
        }
      ],
      "source": [
        "print(y1)"
      ]
    },
    {
      "cell_type": "code",
      "execution_count": null,
      "id": "b21f0284-5ea2-4436-9f18-583c57dabae7",
      "metadata": {
        "colab": {
          "base_uri": "https://localhost:8080/"
        },
        "id": "b21f0284-5ea2-4436-9f18-583c57dabae7",
        "outputId": "1562c2b9-b457-4462-d362-a84c64f12d10"
      },
      "outputs": [
        {
          "output_type": "stream",
          "name": "stdout",
          "text": [
            "[[1 0 0]\n",
            " [1 0 0]\n",
            " [1 0 0]\n",
            " [1 0 0]\n",
            " [1 0 0]]\n"
          ]
        }
      ],
      "source": [
        "Y = pd.get_dummies(y1).values\n",
        "print(Y[0:5])"
      ]
    },
    {
      "cell_type": "code",
      "execution_count": null,
      "id": "a1b3458b-a5e8-4d6a-bf89-f88d2f6b1b10",
      "metadata": {
        "id": "a1b3458b-a5e8-4d6a-bf89-f88d2f6b1b10"
      },
      "outputs": [],
      "source": [
        "from sklearn.model_selection import train_test_split\n",
        "X_train, X_test, y_train, y_test = train_test_split(X, Y, test_size=0.2, random_state=0)"
      ]
    },
    {
      "cell_type": "code",
      "execution_count": null,
      "id": "ec94074c-a192-4399-8d63-c49f8eb764ba",
      "metadata": {
        "colab": {
          "base_uri": "https://localhost:8080/"
        },
        "id": "ec94074c-a192-4399-8d63-c49f8eb764ba",
        "outputId": "a48b712f-e7d4-4b74-ae2f-e0e1bfabe9b3"
      },
      "outputs": [
        {
          "output_type": "stream",
          "name": "stdout",
          "text": [
            "[[5.2 3.4 1.4 0.2]\n",
            " [5.1 2.5 3.  1.1]\n",
            " [6.2 2.9 4.3 1.3]\n",
            " [5.9 3.2 4.8 1.8]\n",
            " [5.1 3.8 1.5 0.3]]\n"
          ]
        }
      ],
      "source": [
        "print(X_train[0:5])"
      ]
    },
    {
      "cell_type": "code",
      "execution_count": null,
      "id": "e92b0006-7d0d-487c-ade2-1fc9fbef1b75",
      "metadata": {
        "colab": {
          "base_uri": "https://localhost:8080/"
        },
        "id": "e92b0006-7d0d-487c-ade2-1fc9fbef1b75",
        "outputId": "61d69954-1379-4f72-b9b7-d5ff7012f5f6"
      },
      "outputs": [
        {
          "output_type": "stream",
          "name": "stdout",
          "text": [
            "[[1 0 0]\n",
            " [0 1 0]\n",
            " [0 1 0]\n",
            " [0 1 0]\n",
            " [1 0 0]]\n"
          ]
        }
      ],
      "source": [
        "print(y_train[0:5])"
      ]
    },
    {
      "cell_type": "code",
      "execution_count": null,
      "id": "baaf8541-0b33-4226-b5b8-45aae58e7b81",
      "metadata": {
        "colab": {
          "base_uri": "https://localhost:8080/"
        },
        "id": "baaf8541-0b33-4226-b5b8-45aae58e7b81",
        "outputId": "33002b42-6a51-49d6-c3d7-dbf1cd4f72ff"
      },
      "outputs": [
        {
          "output_type": "stream",
          "name": "stdout",
          "text": [
            "[[6.1 2.6 5.6 1.4]\n",
            " [6.5 3.2 5.1 2. ]\n",
            " [5.  2.  3.5 1. ]\n",
            " [5.5 2.4 3.7 1. ]\n",
            " [4.4 2.9 1.4 0.2]]\n"
          ]
        }
      ],
      "source": [
        "print(X_test[0:5])"
      ]
    },
    {
      "cell_type": "code",
      "execution_count": null,
      "id": "65645ad6-823a-47b6-b40e-69dc156eaac7",
      "metadata": {
        "colab": {
          "base_uri": "https://localhost:8080/"
        },
        "id": "65645ad6-823a-47b6-b40e-69dc156eaac7",
        "outputId": "08f96b39-4e83-4346-9e67-b27f639de185"
      },
      "outputs": [
        {
          "output_type": "stream",
          "name": "stdout",
          "text": [
            "[[0 0 1]\n",
            " [0 0 1]\n",
            " [0 1 0]\n",
            " [0 1 0]\n",
            " [1 0 0]]\n"
          ]
        }
      ],
      "source": [
        "print(y_test[0:5])"
      ]
    },
    {
      "cell_type": "code",
      "execution_count": null,
      "id": "0a49e05b-6fc3-427b-b1b6-4e08e40aec94",
      "metadata": {
        "id": "0a49e05b-6fc3-427b-b1b6-4e08e40aec94"
      },
      "outputs": [],
      "source": [
        "model = tf.keras.Sequential([\n",
        "    tf.keras.layers.Dense(16, activation='relu', input_shape=(4,)),\n",
        "    tf.keras.layers.Dense(8, activation='relu'),\n",
        "    tf.keras.layers.Dense(3, activation='softmax')\n",
        "])"
      ]
    },
    {
      "cell_type": "code",
      "execution_count": null,
      "id": "e2dd47cf-ace5-4868-8c6d-37b4fc356aef",
      "metadata": {
        "id": "e2dd47cf-ace5-4868-8c6d-37b4fc356aef"
      },
      "outputs": [],
      "source": [
        "model.compile(optimizer='adam',\n",
        "              loss='categorical_crossentropy',\n",
        "              metrics=['accuracy'])"
      ]
    },
    {
      "cell_type": "code",
      "execution_count": null,
      "id": "b8fa7767-1a5e-4d27-8d4f-baecb255de74",
      "metadata": {
        "colab": {
          "base_uri": "https://localhost:8080/"
        },
        "id": "b8fa7767-1a5e-4d27-8d4f-baecb255de74",
        "outputId": "fc618865-62a7-4e7f-f20c-4f6fcac8210c"
      },
      "outputs": [
        {
          "output_type": "execute_result",
          "data": {
            "text/plain": [
              "<keras.callbacks.History at 0x7f52a4cf3a30>"
            ]
          },
          "metadata": {},
          "execution_count": 22
        }
      ],
      "source": [
        "model.fit(X_train, y_train, batch_size=10, epochs=100, verbose=0)"
      ]
    },
    {
      "cell_type": "code",
      "execution_count": null,
      "id": "7b62cddb-572f-4d99-8df2-64c5c20a16a1",
      "metadata": {
        "colab": {
          "base_uri": "https://localhost:8080/"
        },
        "id": "7b62cddb-572f-4d99-8df2-64c5c20a16a1",
        "outputId": "f9a076ee-22c8-4969-b280-10f838fc52d6"
      },
      "outputs": [
        {
          "output_type": "stream",
          "name": "stdout",
          "text": [
            "Test loss: 0.12479904294013977\n",
            "Test accuracy: 1.0\n"
          ]
        }
      ],
      "source": [
        "loss, accuracy = model.evaluate(X_test, y_test, verbose=0)\n",
        "print('Test loss:', loss)\n",
        "print('Test accuracy:', accuracy)"
      ]
    },
    {
      "cell_type": "code",
      "execution_count": null,
      "id": "4460f551-50da-45ae-b127-9134c160e8b3",
      "metadata": {
        "colab": {
          "base_uri": "https://localhost:8080/"
        },
        "id": "4460f551-50da-45ae-b127-9134c160e8b3",
        "outputId": "3e76842f-d22c-4633-c067-498a9d1895a1"
      },
      "outputs": [
        {
          "output_type": "stream",
          "name": "stdout",
          "text": [
            "1/1 [==============================] - 0s 114ms/step\n"
          ]
        },
        {
          "output_type": "execute_result",
          "data": {
            "text/plain": [
              "array([[2.5674188e-05, 1.1851616e-01, 8.8145816e-01],\n",
              "       [3.6967959e-04, 3.6622867e-01, 6.3340163e-01],\n",
              "       [7.5462316e-03, 7.8474534e-01, 2.0770845e-01],\n",
              "       [1.4409353e-02, 9.0725815e-01, 7.8332655e-02],\n",
              "       [9.7681397e-01, 2.3185445e-02, 5.7915986e-07],\n",
              "       [1.0155795e-06, 4.1291233e-02, 9.5870775e-01],\n",
              "       [8.1462429e-05, 2.0122801e-01, 7.9869062e-01],\n",
              "       [1.0828682e-02, 8.7457407e-01, 1.1459723e-01],\n",
              "       [2.5116193e-05, 1.0874675e-01, 8.9122808e-01],\n",
              "       [1.2528768e-02, 8.8535500e-01, 1.0211625e-01],\n",
              "       [9.8025656e-01, 1.9743286e-02, 2.2777681e-07],\n",
              "       [9.7605735e-01, 2.3942107e-02, 4.2793343e-07],\n",
              "       [3.7229310e-03, 7.3875517e-01, 2.5752190e-01],\n",
              "       [9.6734756e-01, 3.2651886e-02, 5.8125454e-07],\n",
              "       [9.8384368e-01, 1.6156144e-02, 2.7093191e-07],\n",
              "       [3.3539865e-04, 4.0033790e-01, 5.9932661e-01],\n",
              "       [2.1411077e-05, 1.1065692e-01, 8.8932168e-01],\n",
              "       [7.1757096e-03, 9.1002905e-01, 8.2795247e-02],\n",
              "       [9.9195677e-01, 8.0432668e-03, 3.0357139e-08],\n",
              "       [9.9489796e-01, 5.1021129e-03, 1.1327877e-08],\n",
              "       [8.9175844e-01, 1.0822661e-01, 1.4975852e-05],\n",
              "       [9.8262924e-01, 1.7370706e-02, 1.5418914e-07],\n",
              "       [3.2234089e-03, 8.4568530e-01, 1.5109123e-01],\n",
              "       [9.6960515e-01, 3.0394234e-02, 6.3507099e-07],\n",
              "       [2.2978580e-03, 7.1518981e-01, 2.8251231e-01],\n",
              "       [1.7605888e-02, 9.1541636e-01, 6.6977777e-02],\n",
              "       [4.1932394e-03, 8.0622065e-01, 1.8958610e-01],\n",
              "       [9.9146491e-01, 8.5350694e-03, 2.7077348e-08],\n",
              "       [9.8982984e-01, 1.0169987e-02, 5.9189730e-08],\n",
              "       [1.1333785e-06, 3.7836745e-02, 9.6216220e-01]], dtype=float32)"
            ]
          },
          "metadata": {},
          "execution_count": 24
        }
      ],
      "source": [
        "y_pred = model.predict(X_test)\n",
        "y_pred"
      ]
    },
    {
      "cell_type": "code",
      "execution_count": null,
      "id": "7443d371-157d-43c7-b9a0-103c7003edd4",
      "metadata": {
        "colab": {
          "base_uri": "https://localhost:8080/"
        },
        "id": "7443d371-157d-43c7-b9a0-103c7003edd4",
        "outputId": "8c0a97ad-ce91-4ba3-cafc-b26db2ca3be9"
      },
      "outputs": [
        {
          "output_type": "stream",
          "name": "stdout",
          "text": [
            "Actual: [2 2 1 1 0 2 2 1 2 1 0 0 1 0 0 2 2 1 0 0 0 0 1 0 1 1 1 0 0 2]\n",
            "Predicted: [2 2 1 1 0 2 2 1 2 1 0 0 1 0 0 2 2 1 0 0 0 0 1 0 1 1 1 0 0 2]\n"
          ]
        }
      ],
      "source": [
        "actual = np.argmax(y_test,axis=1)\n",
        "predicted = np.argmax(y_pred,axis=1)\n",
        "print(f\"Actual: {actual}\")\n",
        "print(f\"Predicted: {predicted}\")"
      ]
    }
  ],
  "metadata": {
    "kernelspec": {
      "display_name": "Python 3 (ipykernel)",
      "language": "python",
      "name": "python3"
    },
    "language_info": {
      "codemirror_mode": {
        "name": "ipython",
        "version": 3
      },
      "file_extension": ".py",
      "mimetype": "text/x-python",
      "name": "python",
      "nbconvert_exporter": "python",
      "pygments_lexer": "ipython3",
      "version": "3.9.12"
    },
    "colab": {
      "provenance": [],
      "include_colab_link": true
    }
  },
  "nbformat": 4,
  "nbformat_minor": 5
}